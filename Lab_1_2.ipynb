{
  "nbformat": 4,
  "nbformat_minor": 0,
  "metadata": {
    "colab": {
      "provenance": [],
      "gpuType": "T4"
    },
    "kernelspec": {
      "name": "python3",
      "display_name": "Python 3"
    },
    "language_info": {
      "name": "python"
    },
    "accelerator": "GPU"
  },
  "cells": [
    {
      "cell_type": "code",
      "execution_count": null,
      "metadata": {
        "colab": {
          "base_uri": "https://localhost:8080/"
        },
        "id": "lx-BRePSkRfV",
        "outputId": "d1695825-f99e-4270-fbac-17c30eef00d7"
      },
      "outputs": [
        {
          "output_type": "stream",
          "name": "stdout",
          "text": [
            "Accuracy: 54.61%\n"
          ]
        }
      ],
      "source": [
        "import numpy as np\n",
        "from sklearn.datasets import fetch_openml\n",
        "from sklearn.model_selection import train_test_split\n",
        "from sklearn.preprocessing import MinMaxScaler\n",
        "from sklearn.metrics import accuracy_score\n",
        "\n",
        "\n",
        "class Perceptron:\n",
        "    def __init__(self, input_size, learning_rate=0.01, epochs=100):\n",
        "        self.weights = np.random.randn(input_size + 1) * 0.01  # +1\n",
        "        self.learning_rate = learning_rate\n",
        "        self.epochs = epochs\n",
        "\n",
        "    def activation(self, x):\n",
        "        # Сигмоидная функция активации\n",
        "        return 1 / (1 + np.exp(-x))\n",
        "\n",
        "    def predict(self, x):\n",
        "        # Добавляем смещение\n",
        "        x = np.insert(x, 0, 1)\n",
        "        z = np.dot(self.weights, x)\n",
        "        a = self.activation(z)\n",
        "        return 1 if a >= 0.5 else 0\n",
        "\n",
        "    def train(self, X, y):\n",
        "        for epoch in range(self.epochs):\n",
        "            for i in range(len(X)):\n",
        "                # Добавляем смещение\n",
        "                x = np.insert(X[i], 0, 1)\n",
        "                z = np.dot(self.weights, x)\n",
        "                a = self.activation(z)\n",
        "\n",
        "                error = y[i] - a\n",
        "\n",
        "                self.weights += self.learning_rate * error * a * (1 - a) * x\n",
        "\n",
        "\n",
        "# Загрузка данных\n",
        "mnist = fetch_openml('mnist_784', version=1, as_frame=False, parser='auto')\n",
        "X, y = mnist[\"data\"], mnist[\"target\"]\n",
        "\n",
        "# Оставляем только цифры\n",
        "mask = (y == '1') | (y == '4')\n",
        "X = X[mask]\n",
        "y = y[mask]\n",
        "\n",
        "y = y.astype(int)\n",
        "\n",
        "# Нормализация данных\n",
        "scaler = MinMaxScaler()\n",
        "X = scaler.fit_transform(X)\n",
        "\n",
        "# Разделение на train/test (80/20)\n",
        "X_train, X_test, y_train, y_test = train_test_split(\n",
        "    X, y, test_size=0.2, random_state=42)\n",
        "\n",
        "# Создание и обучение перцептрона\n",
        "perceptron = Perceptron(\n",
        "    input_size=X_train.shape[1], learning_rate=0.1, epochs=50)\n",
        "perceptron.train(X_train, y_train)\n",
        "\n",
        "# Оценка точности\n",
        "y_pred = [perceptron.predict(x) for x in X_test]\n",
        "accuracy = accuracy_score(y_test, y_pred)\n",
        "print(f\"Accuracy: {accuracy * 100:.2f}%\")\n"
      ]
    },
    {
      "cell_type": "code",
      "source": [
        "import numpy as np\n",
        "from sklearn.datasets import fetch_openml\n",
        "from sklearn.model_selection import train_test_split\n",
        "from sklearn.preprocessing import MinMaxScaler\n",
        "from sklearn.metrics import accuracy_score\n",
        "\n",
        "\n",
        "class Perceptron:\n",
        "    def __init__(self, input_size, learning_rate=0.01, epochs=100):\n",
        "        self.weights = np.random.randn(input_size + 1) * 0.01\n",
        "        self.learning_rate = learning_rate\n",
        "        self.epochs = epochs\n",
        "\n",
        "    def activation(self, x):\n",
        "        # Сигмоидная функция активации\n",
        "        return 1 / (1 + np.exp(-x))\n",
        "\n",
        "    def predict(self, x):\n",
        "        x = np.insert(x, 0, 1)\n",
        "        z = np.dot(self.weights, x)\n",
        "        a = self.activation(z)\n",
        "        return 1 if a >= 0.5 else 0\n",
        "\n",
        "    def train(self, X, y):\n",
        "        for epoch in range(self.epochs):\n",
        "            for i in range(len(X)):\n",
        "                x = np.insert(X[i], 0, 1)\n",
        "                z = np.dot(self.weights, x)\n",
        "                a = self.activation(z)\n",
        "                prediction = 1 if a >= 0.5 else 0\n",
        "\n",
        "                # Положительное и отрицательное подкрепление\n",
        "                if prediction == y[i]:\n",
        "                    # Положительное подкрепление\n",
        "                    self.weights += self.learning_rate * \\\n",
        "                        (y[i] - a) * a * (1 - a) * x\n",
        "                else:\n",
        "                    # Отрицательное подкрепление\n",
        "                    self.weights -= self.learning_rate * \\\n",
        "                        (prediction - a) * a * (1 - a) * x * 2\n",
        "\n",
        "\n",
        "# Загрузка данных\n",
        "mnist = fetch_openml('mnist_784', version=1, as_frame=False, parser='auto')\n",
        "X, y = mnist[\"data\"], mnist[\"target\"]\n",
        "\n",
        "mask = (y == '0') | (y == '4')\n",
        "X = X[mask]\n",
        "y = y[mask]\n",
        "\n",
        "y = y.astype(int)\n",
        "\n",
        "# Нормализация данных\n",
        "scaler = MinMaxScaler()\n",
        "X = scaler.fit_transform(X)\n",
        "\n",
        "# Разделение на train/test (80/20)\n",
        "X_train, X_test, y_train, y_test = train_test_split(\n",
        "    X, y, test_size=0.2, random_state=42)\n",
        "\n",
        "# Создание и обучение перцептрона\n",
        "perceptron = Perceptron(\n",
        "    input_size=X_train.shape[1], learning_rate=0.1, epochs=50)\n",
        "perceptron.train(X_train, y_train)\n",
        "\n",
        "# Оценка точности\n",
        "y_pred = [perceptron.predict(x) for x in X_test]\n",
        "accuracy = accuracy_score(y_test, y_pred)\n",
        "print(f\"Accuracy: {accuracy * 100:.2f}%\")\n"
      ],
      "metadata": {
        "colab": {
          "base_uri": "https://localhost:8080/"
        },
        "id": "GpO8bJdpl6-u",
        "outputId": "31b5b548-cb43-4f49-a441-0f657ea1bac1"
      },
      "execution_count": null,
      "outputs": [
        {
          "output_type": "stream",
          "name": "stdout",
          "text": [
            "Accuracy: 50.44%\n"
          ]
        }
      ]
    },
    {
      "cell_type": "code",
      "source": [],
      "metadata": {
        "id": "rLVwicCBnH5w"
      },
      "execution_count": null,
      "outputs": []
    }
  ]
}