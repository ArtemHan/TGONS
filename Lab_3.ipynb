{
  "nbformat": 4,
  "nbformat_minor": 0,
  "metadata": {
    "colab": {
      "provenance": []
    },
    "kernelspec": {
      "name": "python3",
      "display_name": "Python 3"
    },
    "language_info": {
      "name": "python"
    }
  },
  "cells": [
    {
      "cell_type": "code",
      "execution_count": null,
      "metadata": {
        "colab": {
          "base_uri": "https://localhost:8080/"
        },
        "id": "QEuX6paLo84m",
        "outputId": "9e4b14da-4301-411a-9b13-e50561080f69"
      },
      "outputs": [
        {
          "output_type": "stream",
          "name": "stdout",
          "text": [
            "Downloading data from https://storage.googleapis.com/tensorflow/tf-keras-datasets/mnist.npz\n",
            "\u001b[1m11490434/11490434\u001b[0m \u001b[32m━━━━━━━━━━━━━━━━━━━━\u001b[0m\u001b[37m\u001b[0m \u001b[1m0s\u001b[0m 0us/step\n",
            "Размер обучающей выборки: 54000\n",
            "Размер проверочной выборки: 6000\n",
            "Размер тестовой выборки: 10000\n",
            "Архитектура сети 1\n"
          ]
        },
        {
          "output_type": "stream",
          "name": "stderr",
          "text": [
            "/usr/local/lib/python3.11/dist-packages/keras/src/layers/core/dense.py:87: UserWarning: Do not pass an `input_shape`/`input_dim` argument to a layer. When using Sequential models, prefer using an `Input(shape)` object as the first layer in the model instead.\n",
            "  super().__init__(activity_regularizer=activity_regularizer, **kwargs)\n"
          ]
        },
        {
          "output_type": "stream",
          "name": "stdout",
          "text": [
            "Epoch 1/10\n",
            "\u001b[1m1519/1519\u001b[0m \u001b[32m━━━━━━━━━━━━━━━━━━━━\u001b[0m\u001b[37m\u001b[0m \u001b[1m6s\u001b[0m 3ms/step - accuracy: 0.7153 - loss: 0.9354 - val_accuracy: 0.9094 - val_loss: 0.3121\n",
            "Epoch 2/10\n",
            "\u001b[1m1519/1519\u001b[0m \u001b[32m━━━━━━━━━━━━━━━━━━━━\u001b[0m\u001b[37m\u001b[0m \u001b[1m4s\u001b[0m 2ms/step - accuracy: 0.9090 - loss: 0.3183 - val_accuracy: 0.9237 - val_loss: 0.2716\n",
            "Epoch 3/10\n",
            "\u001b[1m1519/1519\u001b[0m \u001b[32m━━━━━━━━━━━━━━━━━━━━\u001b[0m\u001b[37m\u001b[0m \u001b[1m4s\u001b[0m 3ms/step - accuracy: 0.9225 - loss: 0.2731 - val_accuracy: 0.9248 - val_loss: 0.2620\n",
            "Epoch 4/10\n",
            "\u001b[1m1519/1519\u001b[0m \u001b[32m━━━━━━━━━━━━━━━━━━━━\u001b[0m\u001b[37m\u001b[0m \u001b[1m4s\u001b[0m 2ms/step - accuracy: 0.9282 - loss: 0.2541 - val_accuracy: 0.9322 - val_loss: 0.2452\n",
            "Epoch 5/10\n",
            "\u001b[1m1519/1519\u001b[0m \u001b[32m━━━━━━━━━━━━━━━━━━━━\u001b[0m\u001b[37m\u001b[0m \u001b[1m5s\u001b[0m 2ms/step - accuracy: 0.9318 - loss: 0.2387 - val_accuracy: 0.9304 - val_loss: 0.2409\n",
            "Epoch 6/10\n",
            "\u001b[1m1519/1519\u001b[0m \u001b[32m━━━━━━━━━━━━━━━━━━━━\u001b[0m\u001b[37m\u001b[0m \u001b[1m6s\u001b[0m 3ms/step - accuracy: 0.9337 - loss: 0.2351 - val_accuracy: 0.9302 - val_loss: 0.2424\n",
            "Epoch 7/10\n",
            "\u001b[1m1519/1519\u001b[0m \u001b[32m━━━━━━━━━━━━━━━━━━━━\u001b[0m\u001b[37m\u001b[0m \u001b[1m4s\u001b[0m 2ms/step - accuracy: 0.9353 - loss: 0.2323 - val_accuracy: 0.9294 - val_loss: 0.2350\n",
            "Epoch 8/10\n",
            "\u001b[1m1519/1519\u001b[0m \u001b[32m━━━━━━━━━━━━━━━━━━━━\u001b[0m\u001b[37m\u001b[0m \u001b[1m3s\u001b[0m 2ms/step - accuracy: 0.9364 - loss: 0.2264 - val_accuracy: 0.9270 - val_loss: 0.2369\n",
            "Epoch 9/10\n",
            "\u001b[1m1519/1519\u001b[0m \u001b[32m━━━━━━━━━━━━━━━━━━━━\u001b[0m\u001b[37m\u001b[0m \u001b[1m5s\u001b[0m 3ms/step - accuracy: 0.9403 - loss: 0.2119 - val_accuracy: 0.9317 - val_loss: 0.2281\n",
            "Epoch 10/10\n",
            "\u001b[1m1519/1519\u001b[0m \u001b[32m━━━━━━━━━━━━━━━━━━━━\u001b[0m\u001b[37m\u001b[0m \u001b[1m3s\u001b[0m 2ms/step - accuracy: 0.9385 - loss: 0.2144 - val_accuracy: 0.9359 - val_loss: 0.2216\n",
            "\u001b[1m313/313\u001b[0m \u001b[32m━━━━━━━━━━━━━━━━━━━━\u001b[0m\u001b[37m\u001b[0m \u001b[1m1s\u001b[0m 2ms/step - accuracy: 0.9261 - loss: 0.2546\n",
            "0.9359999895095825\n",
            "Архитектура сети 2\n",
            "Epoch 1/10\n",
            "\u001b[1m1519/1519\u001b[0m \u001b[32m━━━━━━━━━━━━━━━━━━━━\u001b[0m\u001b[37m\u001b[0m \u001b[1m6s\u001b[0m 3ms/step - accuracy: 0.8431 - loss: 0.5781 - val_accuracy: 0.9430 - val_loss: 0.2067\n",
            "Epoch 2/10\n",
            "\u001b[1m1519/1519\u001b[0m \u001b[32m━━━━━━━━━━━━━━━━━━━━\u001b[0m\u001b[37m\u001b[0m \u001b[1m4s\u001b[0m 2ms/step - accuracy: 0.9434 - loss: 0.1992 - val_accuracy: 0.9557 - val_loss: 0.1540\n",
            "Epoch 3/10\n",
            "\u001b[1m1519/1519\u001b[0m \u001b[32m━━━━━━━━━━━━━━━━━━━━\u001b[0m\u001b[37m\u001b[0m \u001b[1m5s\u001b[0m 3ms/step - accuracy: 0.9594 - loss: 0.1414 - val_accuracy: 0.9581 - val_loss: 0.1389\n",
            "Epoch 4/10\n",
            "\u001b[1m1519/1519\u001b[0m \u001b[32m━━━━━━━━━━━━━━━━━━━━\u001b[0m\u001b[37m\u001b[0m \u001b[1m5s\u001b[0m 3ms/step - accuracy: 0.9687 - loss: 0.1137 - val_accuracy: 0.9635 - val_loss: 0.1211\n",
            "Epoch 5/10\n",
            "\u001b[1m1519/1519\u001b[0m \u001b[32m━━━━━━━━━━━━━━━━━━━━\u001b[0m\u001b[37m\u001b[0m \u001b[1m4s\u001b[0m 3ms/step - accuracy: 0.9739 - loss: 0.0941 - val_accuracy: 0.9667 - val_loss: 0.1088\n",
            "Epoch 6/10\n",
            "\u001b[1m1519/1519\u001b[0m \u001b[32m━━━━━━━━━━━━━━━━━━━━\u001b[0m\u001b[37m\u001b[0m \u001b[1m5s\u001b[0m 3ms/step - accuracy: 0.9766 - loss: 0.0816 - val_accuracy: 0.9661 - val_loss: 0.1047\n",
            "Epoch 7/10\n",
            "\u001b[1m1519/1519\u001b[0m \u001b[32m━━━━━━━━━━━━━━━━━━━━\u001b[0m\u001b[37m\u001b[0m \u001b[1m5s\u001b[0m 3ms/step - accuracy: 0.9793 - loss: 0.0697 - val_accuracy: 0.9694 - val_loss: 0.0998\n",
            "Epoch 8/10\n",
            "\u001b[1m1519/1519\u001b[0m \u001b[32m━━━━━━━━━━━━━━━━━━━━\u001b[0m\u001b[37m\u001b[0m \u001b[1m4s\u001b[0m 2ms/step - accuracy: 0.9828 - loss: 0.0580 - val_accuracy: 0.9663 - val_loss: 0.1036\n",
            "Epoch 9/10\n",
            "\u001b[1m1519/1519\u001b[0m \u001b[32m━━━━━━━━━━━━━━━━━━━━\u001b[0m\u001b[37m\u001b[0m \u001b[1m6s\u001b[0m 4ms/step - accuracy: 0.9852 - loss: 0.0501 - val_accuracy: 0.9687 - val_loss: 0.1113\n",
            "Epoch 10/10\n",
            "\u001b[1m1519/1519\u001b[0m \u001b[32m━━━━━━━━━━━━━━━━━━━━\u001b[0m\u001b[37m\u001b[0m \u001b[1m8s\u001b[0m 2ms/step - accuracy: 0.9868 - loss: 0.0443 - val_accuracy: 0.9702 - val_loss: 0.1071\n",
            "\u001b[1m313/313\u001b[0m \u001b[32m━━━━━━━━━━━━━━━━━━━━\u001b[0m\u001b[37m\u001b[0m \u001b[1m1s\u001b[0m 3ms/step - accuracy: 0.9664 - loss: 0.1184\n",
            "0.97079998254776\n",
            "Архитектура сети 3\n",
            "Epoch 1/10\n",
            "\u001b[1m1519/1519\u001b[0m \u001b[32m━━━━━━━━━━━━━━━━━━━━\u001b[0m\u001b[37m\u001b[0m \u001b[1m6s\u001b[0m 3ms/step - accuracy: 0.8255 - loss: 0.5892 - val_accuracy: 0.9487 - val_loss: 0.1730\n",
            "Epoch 2/10\n",
            "\u001b[1m1519/1519\u001b[0m \u001b[32m━━━━━━━━━━━━━━━━━━━━\u001b[0m\u001b[37m\u001b[0m \u001b[1m5s\u001b[0m 3ms/step - accuracy: 0.9538 - loss: 0.1560 - val_accuracy: 0.9587 - val_loss: 0.1337\n",
            "Epoch 3/10\n",
            "\u001b[1m1519/1519\u001b[0m \u001b[32m━━━━━━━━━━━━━━━━━━━━\u001b[0m\u001b[37m\u001b[0m \u001b[1m5s\u001b[0m 3ms/step - accuracy: 0.9667 - loss: 0.1114 - val_accuracy: 0.9670 - val_loss: 0.1046\n",
            "Epoch 4/10\n",
            "\u001b[1m1519/1519\u001b[0m \u001b[32m━━━━━━━━━━━━━━━━━━━━\u001b[0m\u001b[37m\u001b[0m \u001b[1m5s\u001b[0m 3ms/step - accuracy: 0.9720 - loss: 0.0910 - val_accuracy: 0.9685 - val_loss: 0.1014\n",
            "Epoch 5/10\n",
            "\u001b[1m1519/1519\u001b[0m \u001b[32m━━━━━━━━━━━━━━━━━━━━\u001b[0m\u001b[37m\u001b[0m \u001b[1m6s\u001b[0m 3ms/step - accuracy: 0.9768 - loss: 0.0742 - val_accuracy: 0.9694 - val_loss: 0.1001\n",
            "Epoch 6/10\n",
            "\u001b[1m1519/1519\u001b[0m \u001b[32m━━━━━━━━━━━━━━━━━━━━\u001b[0m\u001b[37m\u001b[0m \u001b[1m5s\u001b[0m 3ms/step - accuracy: 0.9802 - loss: 0.0625 - val_accuracy: 0.9707 - val_loss: 0.0983\n",
            "Epoch 7/10\n",
            "\u001b[1m1519/1519\u001b[0m \u001b[32m━━━━━━━━━━━━━━━━━━━━\u001b[0m\u001b[37m\u001b[0m \u001b[1m4s\u001b[0m 3ms/step - accuracy: 0.9836 - loss: 0.0496 - val_accuracy: 0.9720 - val_loss: 0.0882\n",
            "Epoch 8/10\n",
            "\u001b[1m1519/1519\u001b[0m \u001b[32m━━━━━━━━━━━━━━━━━━━━\u001b[0m\u001b[37m\u001b[0m \u001b[1m5s\u001b[0m 3ms/step - accuracy: 0.9867 - loss: 0.0428 - val_accuracy: 0.9661 - val_loss: 0.1065\n",
            "Epoch 9/10\n",
            "\u001b[1m1519/1519\u001b[0m \u001b[32m━━━━━━━━━━━━━━━━━━━━\u001b[0m\u001b[37m\u001b[0m \u001b[1m10s\u001b[0m 3ms/step - accuracy: 0.9881 - loss: 0.0394 - val_accuracy: 0.9728 - val_loss: 0.0973\n",
            "Epoch 10/10\n",
            "\u001b[1m1519/1519\u001b[0m \u001b[32m━━━━━━━━━━━━━━━━━━━━\u001b[0m\u001b[37m\u001b[0m \u001b[1m4s\u001b[0m 3ms/step - accuracy: 0.9888 - loss: 0.0337 - val_accuracy: 0.9731 - val_loss: 0.0992\n",
            "\u001b[1m313/313\u001b[0m \u001b[32m━━━━━━━━━━━━━━━━━━━━\u001b[0m\u001b[37m\u001b[0m \u001b[1m1s\u001b[0m 2ms/step - accuracy: 0.9688 - loss: 0.1264\n",
            "0.972100019454956\n"
          ]
        }
      ],
      "source": [
        "from sklearn.model_selection import train_test_split\n",
        "from tensorflow.keras.datasets import mnist\n",
        "from tensorflow.keras.models import Sequential\n",
        "from tensorflow.keras.layers import Dense\n",
        "from tensorflow.keras.utils import to_categorical\n",
        "\n",
        "# Загрузка данных MNIST\n",
        "(x_train, y_train), (x_test, y_test) = mnist.load_data()\n",
        "\n",
        "# Разделение обучающей выборки на обучающую и проверочную\n",
        "x_train, x_val, y_train, y_val = train_test_split(x_train, y_train, test_size=0.1, random_state=42)\n",
        "\n",
        "print(f\"Размер обучающей выборки: {x_train.shape[0]}\")\n",
        "print(f\"Размер проверочной выборки: {x_val.shape[0]}\")\n",
        "print(f\"Размер тестовой выборки: {x_test.shape[0]}\")\n",
        "\n",
        "# Преобразование данных\n",
        "x_train = x_train.reshape(x_train.shape[0], -1) / 255.0\n",
        "x_test = x_test.reshape(x_test.shape[0], -1) / 255.0\n",
        "y_train = to_categorical(y_train)\n",
        "y_test = to_categorical(y_test)\n",
        "\n",
        "# Архитектура сети 1\n",
        "print('Архитектура сети 1')\n",
        "model = Sequential()\n",
        "model.add(Dense(10, input_dim=784, activation='relu'))\n",
        "model.add(Dense(10, activation='softmax'))\n",
        "model.compile(loss='categorical_crossentropy', optimizer='adam', metrics=['accuracy'])\n",
        "\n",
        "model.fit(x_train, y_train, epochs=10, validation_split=0.1)\n",
        "_, test_acc = model.evaluate(x_test, y_test)\n",
        "print(test_acc)\n",
        "\n",
        "# Архитектура сети 2\n",
        "print('Архитектура сети 2')\n",
        "model2 = Sequential()\n",
        "model2.add(Dense(50, input_dim=784, activation='relu'))\n",
        "model2.add(Dense(10, activation='softmax'))\n",
        "model2.compile(loss='categorical_crossentropy', optimizer='adam', metrics=['accuracy'])\n",
        "\n",
        "model2.fit(x_train, y_train, epochs=10, validation_split=0.1)\n",
        "_, test_acc2 = model2.evaluate(x_test, y_test)\n",
        "print(test_acc2)\n",
        "\n",
        "# Архитектура сети 3\n",
        "print('Архитектура сети 3')\n",
        "model3 = Sequential()\n",
        "model3.add(Dense(50, input_dim=784, activation='relu'))\n",
        "model3.add(Dense(50, activation='relu'))\n",
        "model3.add(Dense(10, activation='softmax'))\n",
        "model3.compile(loss='categorical_crossentropy', optimizer='adam', metrics=['accuracy'])\n",
        "\n",
        "model3.fit(x_train, y_train, epochs=10, validation_split=0.1)\n",
        "_, test_acc3 = model3.evaluate(x_test, y_test)\n",
        "print(test_acc3)\n"
      ]
    },
    {
      "cell_type": "code",
      "source": [
        "from tensorflow.keras.layers import Conv2D, MaxPooling2D, Flatten\n",
        "from tensorflow.keras.datasets import fashion_mnist\n",
        "import numpy as np\n",
        "\n",
        "(x_train, y_train), (x_test, y_test) = fashion_mnist.load_data()\n",
        "x_train = x_train[:,:,:,np.newaxis] / 255.0\n",
        "x_test = x_test[:,:,:,np.newaxis] / 255.0\n",
        "y_train = to_categorical(y_train)\n",
        "y_test = to_categorical(y_test)\n",
        "\n",
        "# Архитектура сети 4\n",
        "print('Архитектура сети 4')\n",
        "model4 = Sequential()\n",
        "model4.add(Conv2D(filters=64, kernel_size=2, padding='same', activation='relu', input_shape=(28,28, 1)))\n",
        "model4.add(MaxPooling2D(pool_size=2))\n",
        "model4.add(Flatten())\n",
        "model4.add(Dense(10, activation='softmax'))\n",
        "model4.compile(loss='categorical_crossentropy', optimizer='adam', metrics=['accuracy'])\n",
        "model4.fit(x_train, y_train, epochs=10, validation_split=0.1)\n",
        "_, test_acc4 = model4.evaluate(x_test, y_test)\n",
        "print(test_acc4)\n"
      ],
      "metadata": {
        "colab": {
          "base_uri": "https://localhost:8080/"
        },
        "id": "pAJYCaXKpQpJ",
        "outputId": "23cfbeb1-1cd6-4a99-d846-99b742e5ca68"
      },
      "execution_count": null,
      "outputs": [
        {
          "output_type": "stream",
          "name": "stdout",
          "text": [
            "Downloading data from https://storage.googleapis.com/tensorflow/tf-keras-datasets/train-labels-idx1-ubyte.gz\n",
            "\u001b[1m29515/29515\u001b[0m \u001b[32m━━━━━━━━━━━━━━━━━━━━\u001b[0m\u001b[37m\u001b[0m \u001b[1m0s\u001b[0m 0us/step\n",
            "Downloading data from https://storage.googleapis.com/tensorflow/tf-keras-datasets/train-images-idx3-ubyte.gz\n",
            "\u001b[1m26421880/26421880\u001b[0m \u001b[32m━━━━━━━━━━━━━━━━━━━━\u001b[0m\u001b[37m\u001b[0m \u001b[1m0s\u001b[0m 0us/step\n",
            "Downloading data from https://storage.googleapis.com/tensorflow/tf-keras-datasets/t10k-labels-idx1-ubyte.gz\n",
            "\u001b[1m5148/5148\u001b[0m \u001b[32m━━━━━━━━━━━━━━━━━━━━\u001b[0m\u001b[37m\u001b[0m \u001b[1m0s\u001b[0m 0us/step\n",
            "Downloading data from https://storage.googleapis.com/tensorflow/tf-keras-datasets/t10k-images-idx3-ubyte.gz\n",
            "\u001b[1m4422102/4422102\u001b[0m \u001b[32m━━━━━━━━━━━━━━━━━━━━\u001b[0m\u001b[37m\u001b[0m \u001b[1m0s\u001b[0m 0us/step\n",
            "Архитектура сети 4\n"
          ]
        },
        {
          "output_type": "stream",
          "name": "stderr",
          "text": [
            "/usr/local/lib/python3.11/dist-packages/keras/src/layers/convolutional/base_conv.py:107: UserWarning: Do not pass an `input_shape`/`input_dim` argument to a layer. When using Sequential models, prefer using an `Input(shape)` object as the first layer in the model instead.\n",
            "  super().__init__(activity_regularizer=activity_regularizer, **kwargs)\n"
          ]
        },
        {
          "output_type": "stream",
          "name": "stdout",
          "text": [
            "Epoch 1/10\n",
            "\u001b[1m1688/1688\u001b[0m \u001b[32m━━━━━━━━━━━━━━━━━━━━\u001b[0m\u001b[37m\u001b[0m \u001b[1m41s\u001b[0m 24ms/step - accuracy: 0.8039 - loss: 0.5820 - val_accuracy: 0.8797 - val_loss: 0.3416\n",
            "Epoch 2/10\n",
            "\u001b[1m1688/1688\u001b[0m \u001b[32m━━━━━━━━━━━━━━━━━━━━\u001b[0m\u001b[37m\u001b[0m \u001b[1m40s\u001b[0m 24ms/step - accuracy: 0.8886 - loss: 0.3108 - val_accuracy: 0.8878 - val_loss: 0.3168\n",
            "Epoch 3/10\n",
            "\u001b[1m1688/1688\u001b[0m \u001b[32m━━━━━━━━━━━━━━━━━━━━\u001b[0m\u001b[37m\u001b[0m \u001b[1m42s\u001b[0m 24ms/step - accuracy: 0.9032 - loss: 0.2770 - val_accuracy: 0.8983 - val_loss: 0.2883\n",
            "Epoch 4/10\n",
            "\u001b[1m1688/1688\u001b[0m \u001b[32m━━━━━━━━━━━━━━━━━━━━\u001b[0m\u001b[37m\u001b[0m \u001b[1m45s\u001b[0m 26ms/step - accuracy: 0.9085 - loss: 0.2563 - val_accuracy: 0.8997 - val_loss: 0.2756\n",
            "Epoch 5/10\n",
            "\u001b[1m1688/1688\u001b[0m \u001b[32m━━━━━━━━━━━━━━━━━━━━\u001b[0m\u001b[37m\u001b[0m \u001b[1m80s\u001b[0m 25ms/step - accuracy: 0.9177 - loss: 0.2305 - val_accuracy: 0.8995 - val_loss: 0.2788\n",
            "Epoch 6/10\n",
            "\u001b[1m1688/1688\u001b[0m \u001b[32m━━━━━━━━━━━━━━━━━━━━\u001b[0m\u001b[37m\u001b[0m \u001b[1m41s\u001b[0m 24ms/step - accuracy: 0.9206 - loss: 0.2232 - val_accuracy: 0.9033 - val_loss: 0.2762\n",
            "Epoch 7/10\n",
            "\u001b[1m1688/1688\u001b[0m \u001b[32m━━━━━━━━━━━━━━━━━━━━\u001b[0m\u001b[37m\u001b[0m \u001b[1m80s\u001b[0m 23ms/step - accuracy: 0.9245 - loss: 0.2084 - val_accuracy: 0.9040 - val_loss: 0.2820\n",
            "Epoch 8/10\n",
            "\u001b[1m1688/1688\u001b[0m \u001b[32m━━━━━━━━━━━━━━━━━━━━\u001b[0m\u001b[37m\u001b[0m \u001b[1m41s\u001b[0m 24ms/step - accuracy: 0.9280 - loss: 0.1999 - val_accuracy: 0.9063 - val_loss: 0.2732\n",
            "Epoch 9/10\n",
            "\u001b[1m1688/1688\u001b[0m \u001b[32m━━━━━━━━━━━━━━━━━━━━\u001b[0m\u001b[37m\u001b[0m \u001b[1m40s\u001b[0m 24ms/step - accuracy: 0.9327 - loss: 0.1891 - val_accuracy: 0.9050 - val_loss: 0.2823\n",
            "Epoch 10/10\n",
            "\u001b[1m1688/1688\u001b[0m \u001b[32m━━━━━━━━━━━━━━━━━━━━\u001b[0m\u001b[37m\u001b[0m \u001b[1m41s\u001b[0m 24ms/step - accuracy: 0.9354 - loss: 0.1807 - val_accuracy: 0.9032 - val_loss: 0.2843\n",
            "\u001b[1m313/313\u001b[0m \u001b[32m━━━━━━━━━━━━━━━━━━━━\u001b[0m\u001b[37m\u001b[0m \u001b[1m2s\u001b[0m 7ms/step - accuracy: 0.8964 - loss: 0.2990\n",
            "0.8956000208854675\n"
          ]
        }
      ]
    },
    {
      "cell_type": "code",
      "source": [
        "import numpy as np\n",
        "\n",
        "# Функция активации (логистический сигмоид)\n",
        "def sigmoid(x):\n",
        "    return 1 / (1 + np.exp(-x))\n",
        "\n",
        "# Производная сигмоида\n",
        "def sigmoid_derivative(x):\n",
        "    return sigmoid(x) * (1 - sigmoid(x))\n",
        "\n",
        "# Параметры сети\n",
        "X = np.array([0.4, -0.7])  # Входной вектор\n",
        "W1 = np.array([[0.9, 0.5], [1.2, -0.7], [-0.5, 0.6]])  # Матрица весов 1 слоя (3x2) с bias\n",
        "W2 = np.array([[-0.7], [0.2], [0.4]])  # Матрица весов 2 слоя (3x1) с bias\n",
        "Y = np.array([0.5])  # Эталонный выход\n",
        "learning_rate = 0.5  # Скорость обучения\n",
        "\n",
        "# Добавляем bias к входу (константа 1)\n",
        "X_with_bias = np.insert(X, 0, 1)\n",
        "\n",
        "# Прямое распространение\n",
        "net_h = np.dot(X_with_bias, W1)\n",
        "out_h = sigmoid(net_h)\n",
        "\n",
        "# Добавляем bias к выходу скрытого слоя\n",
        "out_h_with_bias = np.insert(out_h, 0, 1)\n",
        "\n",
        "net_o = np.dot(out_h_with_bias, W2)\n",
        "out_o = sigmoid(net_o)\n",
        "\n",
        "# Вычисление ошибки\n",
        "error = Y - out_o\n",
        "\n",
        "# Обратное распространение\n",
        "delta_o = error * sigmoid_derivative(net_o)\n",
        "delta_h = np.dot(delta_o, W2[1:].T) * sigmoid_derivative(net_h)  # Исключаем bias веса\n",
        "\n",
        "# Обновление весов\n",
        "W2 += learning_rate * np.outer(out_h_with_bias, delta_o)\n",
        "W1 += learning_rate * np.outer(X_with_bias, delta_h)\n",
        "\n",
        "# Вывод результатов\n",
        "print(\"Выход сети:\", out_o[0])\n",
        "print(\"Ошибка:\", error[0])\n",
        "print(\"Обновленная W1:\\n\", W1)\n",
        "print(\"Обновленная W2:\\n\", W2)\n"
      ],
      "metadata": {
        "colab": {
          "base_uri": "https://localhost:8080/"
        },
        "id": "JxypphITpR7x",
        "outputId": "6155b001-f2be-40e3-ceeb-23373dfbc27a"
      },
      "execution_count": null,
      "outputs": [
        {
          "output_type": "stream",
          "name": "stdout",
          "text": [
            "Выход сети: 0.4133700259137209\n",
            "Ошибка: 0.0866299740862791\n",
            "Обновленная W1:\n",
            " [[ 0.90026871  0.50103993]\n",
            " [ 1.20010748 -0.69958403]\n",
            " [-0.50018809  0.59927205]]\n",
            "Обновленная W2:\n",
            " [[-0.68949632]\n",
            " [ 0.20892195]\n",
            " [ 0.4047284 ]]\n"
          ]
        }
      ]
    }
  ]
}